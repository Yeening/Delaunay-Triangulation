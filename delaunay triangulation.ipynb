{
 "cells": [
  {
   "cell_type": "code",
   "execution_count": 365,
   "metadata": {},
   "outputs": [],
   "source": [
    "import matplotlib.pyplot as plt\n",
    "import numpy as np\n",
    "np.random.seed(37)\n",
    "X_MAX = 10\n",
    "Y_MAX = 10"
   ]
  },
  {
   "cell_type": "code",
   "execution_count": 127,
   "metadata": {},
   "outputs": [
    {
     "data": {
      "text/plain": [
       "[(1, 2), (1, 3), (1, 1)]"
      ]
     },
     "execution_count": 127,
     "metadata": {},
     "output_type": "execute_result"
    }
   ],
   "source": [
    "xx=[[1,1],[1,2],[1,3],[1,3]]\n",
    "xx = set(tuple(element) for element in xx)\n",
    "xx = list(xx)\n",
    "xx"
   ]
  },
  {
   "cell_type": "code",
   "execution_count": 377,
   "metadata": {},
   "outputs": [
    {
     "name": "stdout",
     "output_type": "stream",
     "text": [
      "[[3.36031116 5.97520684]\n",
      " [4.43172288 6.90752183]\n",
      " [6.29632318 2.04662548]\n",
      " [7.30047207 4.18605801]\n",
      " [8.63061346 0.39634373]]\n",
      "[[7.300472067780714, 4.18605800828462, 4.4317228805309785, 6.907521832153503, 6.296323179612743, 2.0466254825117147], [7.300472067780714, 4.18605800828462, 3.3603111573163336, 5.975206840812531, 4.4317228805309785, 6.907521832153503], [7.300472067780714, 4.18605800828462, 3.3603111573163336, 5.975206840812531, 6.296323179612743, 2.0466254825117147], [8.630613462732045, 0.3963437307387663, 6.296323179612743, 2.0466254825117147, 7.300472067780714, 4.18605800828462]]\n"
     ]
    },
    {
     "data": {
      "image/png": "[encoded data removed]",
      "text/plain": [
       "<Figure size 432x288 with 1 Axes>"
      ]
     },
     "metadata": {
      "needs_background": "light"
     },
     "output_type": "display_data"
    }
   ],
   "source": [
    "points = generate_points(num_to_generate = 5,  x_max = X_MAX, y_max = Y_MAX)\n",
    "print(points)\n",
    "temp_triangles = []\n",
    "st = super_triangle(x_max = X_MAX, y_max = Y_MAX)\n",
    "temp_triangles.append(st)\n",
    "temp_triangles\n",
    "triangles = []\n",
    "\n",
    "for point in points:\n",
    "    edge_buffer = []\n",
    "    for triangle in temp_triangles:\n",
    "        circle = define_circle(triangle[0:2], triangle[2:4], triangle[4:6])\n",
    "        cx, cy, radius = circle[0], circle[1], circle[2]\n",
    "        pos = (position_to_circle(point, cx, cy, radius))\n",
    "        if pos == 'right':\n",
    "            triangles.append(triangle)\n",
    "            temp_triangles.remove(triangle)\n",
    "        elif pos == 'in':\n",
    "            temp_triangles.remove(triangle)\n",
    "            add_edge(edge_buffer, triangle[0], triangle[1], triangle[2],triangle[3])\n",
    "            add_edge(edge_buffer, triangle[0], triangle[1], triangle[4],triangle[5])\n",
    "            add_edge(edge_buffer, triangle[4], triangle[5], triangle[2],triangle[3])\n",
    "    # remove deplicate edges\n",
    "    edge_buffer = set(tuple(element) for element in edge_buffer)\n",
    "    edge_buffer = list(edge_buffer)\n",
    "    \n",
    "    # make triangles to temp\n",
    "    for edge in edge_buffer:\n",
    "        temp_triangles.append([point[0], point[1], edge[0], edge[1], edge[2], edge[3]])\n",
    "    \n",
    "triangles.extend(temp_triangles)\n",
    "#     print(temp_triangles)\n",
    "triangles = triangles_filter(triangles, st)\n",
    "print(triangles)\n",
    "draw_triangles(triangles)"
   ]
  },
  {
   "cell_type": "code",
   "execution_count": 375,
   "metadata": {},
   "outputs": [],
   "source": [
    "def generate_points(num_to_generate, x_max, y_max):\n",
    "    x = np.random.uniform(0, X_MAX, num_to_generate).reshape(-1, 1)\n",
    "    y = np.random.uniform(0, y_max, num_to_generate).reshape(-1, 1)\n",
    "    points = np.concatenate((x,y), axis = 1)\n",
    "    points = points[points[:,0].argsort()]\n",
    "    return points\n",
    "\n",
    "\n",
    "def super_triangle(x_max, y_max):\n",
    "    sup = [-3*x_max, -1*y_max, x_max, 3*y_max, 4*x_max, -1 *y_max]\n",
    "    return sup\n",
    "\n",
    "def unique_rows(a):\n",
    "    a = np.ascontiguousarray(a)\n",
    "    unique_a = np.unique(a.view([('', a.dtype)]*a.shape[1]))\n",
    "    return unique_a.view(a.dtype).reshape((unique_a.shape[0], a.shape[1]))\n",
    "\n",
    "# def iteration(points, temp_triangles):\n",
    "#     for point in points:\n",
    "#         edge_buffer = {}\n",
    "\n",
    "\n",
    "def add_edge(edge_buffer, x1, y1, x2, y2):\n",
    "    if x1 > x2:\n",
    "        add_edge(edge_buffer, x2, y2, x1, y1)\n",
    "        return\n",
    "    edge_buffer.append([x1, y1, x2, y2])\n",
    "\n",
    "\n",
    "def define_circle(p1, p2, p3):\n",
    "    \"\"\"\n",
    "    Returns the center and radius of the circle passing the given 3 points.\n",
    "    In case the 3 points form a line, returns (None, infinity).\n",
    "    \"\"\"\n",
    "    temp = p2[0] * p2[0] + p2[1] * p2[1]\n",
    "    bc = (p1[0] * p1[0] + p1[1] * p1[1] - temp) / 2\n",
    "    cd = (temp - p3[0] * p3[0] - p3[1] * p3[1]) / 2\n",
    "    det = (p1[0] - p2[0]) * (p2[1] - p3[1]) - (p2[0] - p3[0]) * (p1[1] - p2[1])\n",
    "\n",
    "    if abs(det) < 1.0e-6:\n",
    "        return (None, np.inf)\n",
    "\n",
    "    # Center of circle\n",
    "    cx = (bc*(p2[1] - p3[1]) - cd*(p1[1] - p2[1])) / det\n",
    "    cy = ((p1[0] - p2[0]) * cd - (p2[0] - p3[0]) * bc) / det\n",
    "\n",
    "    radius = np.sqrt((cx - p1[0])**2 + (cy - p1[1])**2)\n",
    "    return [cx, cy, radius]\n",
    "\n",
    "\n",
    "def position_to_circle(point, cx, cy, radius):\n",
    "    # right\n",
    "    if cx+radius < point[0]:\n",
    "        return 'right'\n",
    "    \n",
    "    elif (point[0]-cx)**2 + (point[1]-cy)**2 > radius**2:\n",
    "        return 'out'\n",
    "    \n",
    "    else:\n",
    "        return 'in'\n",
    "    \n",
    "    return ''\n",
    "\n",
    "def triangles_filter(triangles, super_triangle):\n",
    "    res = []\n",
    "    for triangle in triangles:\n",
    "        is_in = False\n",
    "        for x in triangle:\n",
    "            if x in super_triangle:\n",
    "                is_in = True\n",
    "                break\n",
    "        if not is_in:\n",
    "            res.append(triangle)\n",
    "    \n",
    "    return res\n",
    "\n",
    "def draw_triangles(triangles):\n",
    "    x = []\n",
    "    y = []\n",
    "    for triangle in triangles:\n",
    "        x.extend([triangle[0],triangle[2], triangle[4]])\n",
    "        y.extend([triangle[1],triangle[3], triangle[5]])\n",
    "        line = plt.Line2D((triangle[0], triangle[1]), (triangle[2], triangle[3]), lw=2.5)\n",
    "        line = plt.Line2D((triangle[0], triangle[1]), (triangle[4], triangle[5]), lw=2.5)\n",
    "        line = plt.Line2D((triangle[4], triangle[5]), (triangle[2], triangle[3]), lw=2.5)\n",
    "        plt.gca().add_line(line)\n",
    "    plt.scatter(x,y)\n",
    "    plt.show()"
   ]
  }
 ],
 "metadata": {
  "kernelspec": {
   "display_name": "ml3.7",
   "language": "python",
   "name": "ml3.7"
  },
  "language_info": {
   "codemirror_mode": {
    "name": "ipython",
    "version": 3
   },
   "file_extension": ".py",
   "mimetype": "text/x-python",
   "name": "python",
   "nbconvert_exporter": "python",
   "pygments_lexer": "ipython3",
   "version": "3.7.4"
  }
 },
 "nbformat": 4,
 "nbformat_minor": 2
}
